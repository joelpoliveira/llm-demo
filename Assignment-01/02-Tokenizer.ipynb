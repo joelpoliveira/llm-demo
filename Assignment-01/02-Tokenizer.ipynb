{
 "cells": [
  {
   "cell_type": "code",
   "execution_count": 21,
   "metadata": {},
   "outputs": [],
   "source": [
    "import os\n",
    "import json\n",
    "import ijson\n",
    "\n",
    "from tokenizers import Tokenizer, Regex\n",
    "from tokenizers.models import BPE\n",
    "from tokenizers.pre_tokenizers import Split, ByteLevel\n",
    "from tokenizers.trainers import BpeTrainer\n",
    "from tokenizers.normalizers import BertNormalizer\n",
    "from tokenizers.decoders import WordPiece"
   ]
  },
  {
   "cell_type": "code",
   "execution_count": 22,
   "metadata": {},
   "outputs": [],
   "source": [
    "def load_examples(file_path):\n",
    "    with open(file_path, \"r\", encoding=\"utf-8\") as f:\n",
    "        return json.load(f)\n",
    "    \n",
    "def data_loader(file_path):\n",
    "    with open(file_path, 'r', encoding=\"utf-8\") as f_in:\n",
    "        items = ijson.items(f_in, 'item')\n",
    "        for item in items: yield item"
   ]
  },
  {
   "cell_type": "code",
   "execution_count": 23,
   "metadata": {},
   "outputs": [],
   "source": [
    "normalizer = BertNormalizer(strip_accents=True, lowercase=True)\n",
    "\n",
    "pattern = \"\"\"'(?:[sdmt]|ll|ve|re)| ?\\p{L}+| ?\\p{N}+| ?[^\\s\\p{L}\\p{N}]+|\\s+(?!\\S)|\\s+\"\"\"\n",
    "pre_tokenizer = Split(Regex(pattern), behavior=\"isolated\")"
   ]
  },
  {
   "cell_type": "code",
   "execution_count": 24,
   "metadata": {},
   "outputs": [],
   "source": [
    "MAX_SEQ_LEN=256\n",
    "\n",
    "tokenizer = Tokenizer(BPE(\n",
    "    unk_token=\"[UNK]\",\n",
    "    continuing_subword_prefix=\"##\",\n",
    "))\n",
    "tokenizer.normalizer = normalizer\n",
    "tokenizer.pre_tokenizer = pre_tokenizer\n",
    "tokenizer.enable_padding(pad_id=0, pad_token=\"[PAD]\", length=MAX_SEQ_LEN)\n",
    "tokenizer.decoder = WordPiece()"
   ]
  },
  {
   "cell_type": "code",
   "execution_count": 25,
   "metadata": {},
   "outputs": [],
   "source": [
    "token_trainer = BpeTrainer(\n",
    "    vocab_size=5000,\n",
    "    special_tokens=[\"[UNK]\", \"<|endoftext|>\", \"[PAD]\"],\n",
    "    show_progress=True,\n",
    "    initial_alphabet=ByteLevel.alphabet(),\n",
    "    min_frequency=2,\n",
    "    continuing_subword_prefix=\"##\",\n",
    ")\n",
    "\n",
    "train_file = \"data/train.json\"\n",
    "#data = load_examples(train_file)"
   ]
  },
  {
   "cell_type": "code",
   "execution_count": 26,
   "metadata": {},
   "outputs": [],
   "source": [
    "#tokenizer.train_from_iterator(data, token_trainer)\n",
    "tokenizer.train_from_iterator(data_loader(train_file), token_trainer)\n",
    "\n",
    "tokenizer.save(\"models/tokenizer.json\")"
   ]
  },
  {
   "cell_type": "code",
   "execution_count": null,
   "metadata": {},
   "outputs": [],
   "source": [
    "import json\n",
    "from transformers import PreTrainedTokenizerFast\n",
    "\n",
    "MAX_SEQ_LEN = 256\n",
    "tokenizer = PreTrainedTokenizerFast(\n",
    "    tokenizer_file=\"models/tokenizer.json\",\n",
    "    pad_token=\"[PAD]\",\n",
    "    unk_token=\"[UNK]\",\n",
    "    max_len = MAX_SEQ_LEN,\n",
    "    add_prefix_space=False,\n",
    "    eos_token=\"<|endoftext|>\"\n",
    ")\n",
    "\n",
    "# with open(\"data/train.json\", \"r\", encoding=\"utf-8\") as f:\n",
    "#     data = json.load(f)\n",
    "\n",
    "# data = list(map(lambda x: len(\n",
    "#     tokenizer(\n",
    "#         x,\n",
    "#         #padding=\"max_length\",\n",
    "#         return_attention_mask=False,\n",
    "#         return_token_type_ids=False,\n",
    "#     )[\"input_ids\"]\n",
    "#     ), data\n",
    "# ))"
   ]
  },
  {
   "cell_type": "code",
   "execution_count": 19,
   "metadata": {},
   "outputs": [
    {
     "data": {
      "text/plain": [
       "(1, 2, 0)"
      ]
     },
     "execution_count": 19,
     "metadata": {},
     "output_type": "execute_result"
    }
   ],
   "source": [
    "tokenizer.eos_token_id, tokenizer.pad_token_id, tokenizer.unk_token_id"
   ]
  },
  {
   "cell_type": "code",
   "execution_count": 20,
   "metadata": {},
   "outputs": [
    {
     "data": {
      "text/plain": [
       "['<|endoftext|>', '[UNK]', '[PAD]']"
      ]
     },
     "execution_count": 20,
     "metadata": {},
     "output_type": "execute_result"
    }
   ],
   "source": [
    "tokenizer.all_special_tokens"
   ]
  },
  {
   "cell_type": "code",
   "execution_count": null,
   "metadata": {},
   "outputs": [],
   "source": []
  }
 ],
 "metadata": {
  "kernelspec": {
   "display_name": "Python 3",
   "language": "python",
   "name": "python3"
  },
  "language_info": {
   "codemirror_mode": {
    "name": "ipython",
    "version": 3
   },
   "file_extension": ".py",
   "mimetype": "text/x-python",
   "name": "python",
   "nbconvert_exporter": "python",
   "pygments_lexer": "ipython3",
   "version": "3.9.7"
  }
 },
 "nbformat": 4,
 "nbformat_minor": 2
}
